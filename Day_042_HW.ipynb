{
 "cells": [
  {
   "cell_type": "markdown",
   "metadata": {},
   "source": [
    "## [作業重點]\n",
    "目前你應該已經要很清楚資料集中，資料的型態是什麼樣子囉！包含特徵 (features) 與標籤 (labels)。因此要記得未來不管什麼專案，必須要把資料清理成相同的格式，才能送進模型訓練。\n",
    "今天的作業開始踏入決策樹這個非常重要的模型，請務必確保你理解模型中每個超參數的意思，並試著調整看看，對最終預測結果的影響為何"
   ]
  },
  {
   "cell_type": "markdown",
   "metadata": {},
   "source": [
    "## 作業\n",
    "\n",
    "1. 試著調整 DecisionTreeClassifier(...) 中的參數，並觀察是否會改變結果？\n",
    "2. 改用其他資料集 (boston, wine)，並與回歸模型的結果進行比較"
   ]
  },
  {
   "cell_type": "code",
   "execution_count": 1,
   "metadata": {},
   "outputs": [
    {
     "name": "stderr",
     "output_type": "stream",
     "text": [
      "D:\\anaconda\\lib\\importlib\\_bootstrap.py:219: RuntimeWarning: numpy.ufunc size changed, may indicate binary incompatibility. Expected 192 from C header, got 216 from PyObject\n",
      "  return f(*args, **kwds)\n"
     ]
    }
   ],
   "source": [
    "from sklearn import datasets\n",
    "from sklearn.tree import DecisionTreeClassifier, DecisionTreeRegressor\n",
    "from sklearn.model_selection import train_test_split\n",
    "from sklearn.metrics import accuracy_score, r2_score"
   ]
  },
  {
   "cell_type": "code",
   "execution_count": 11,
   "metadata": {},
   "outputs": [
    {
     "name": "stdout",
     "output_type": "stream",
     "text": [
      "max depth:  2\n",
      "score:  0.8444444444444444\n",
      "['alcohol', 'malic_acid', 'ash', 'alcalinity_of_ash', 'magnesium', 'total_phenols', 'flavanoids', 'nonflavanoid_phenols', 'proanthocyanins', 'color_intensity', 'hue', 'od280/od315_of_diluted_wines', 'proline']\n",
      "[0.         0.         0.         0.         0.         0.\n",
      " 0.49299068 0.         0.         0.45962843 0.         0.\n",
      " 0.04738089]\n",
      "\n",
      "max depth:  4\n",
      "score:  0.9333333333333333\n",
      "['alcohol', 'malic_acid', 'ash', 'alcalinity_of_ash', 'magnesium', 'total_phenols', 'flavanoids', 'nonflavanoid_phenols', 'proanthocyanins', 'color_intensity', 'hue', 'od280/od315_of_diluted_wines', 'proline']\n",
      "[0.         0.01888132 0.02216502 0.         0.         0.\n",
      " 0.43241919 0.         0.         0.403156   0.         0.\n",
      " 0.12337846]\n",
      "\n",
      "max depth:  8\n",
      "score:  0.9333333333333333\n",
      "['alcohol', 'malic_acid', 'ash', 'alcalinity_of_ash', 'magnesium', 'total_phenols', 'flavanoids', 'nonflavanoid_phenols', 'proanthocyanins', 'color_intensity', 'hue', 'od280/od315_of_diluted_wines', 'proline']\n",
      "[0.         0.01888132 0.02216502 0.         0.         0.\n",
      " 0.43241919 0.         0.         0.403156   0.         0.\n",
      " 0.12337846]\n",
      "\n",
      "max depth:  16\n",
      "score:  0.9333333333333333\n",
      "['alcohol', 'malic_acid', 'ash', 'alcalinity_of_ash', 'magnesium', 'total_phenols', 'flavanoids', 'nonflavanoid_phenols', 'proanthocyanins', 'color_intensity', 'hue', 'od280/od315_of_diluted_wines', 'proline']\n",
      "[0.         0.01888132 0.02216502 0.         0.         0.\n",
      " 0.43241919 0.         0.         0.403156   0.         0.\n",
      " 0.12337846]\n",
      "\n",
      "max depth:  32\n",
      "score:  0.9555555555555556\n",
      "['alcohol', 'malic_acid', 'ash', 'alcalinity_of_ash', 'magnesium', 'total_phenols', 'flavanoids', 'nonflavanoid_phenols', 'proanthocyanins', 'color_intensity', 'hue', 'od280/od315_of_diluted_wines', 'proline']\n",
      "[0.01888132 0.         0.02216502 0.         0.         0.\n",
      " 0.43241919 0.         0.         0.403156   0.         0.\n",
      " 0.12337846]\n",
      "\n"
     ]
    }
   ],
   "source": [
    "wine = datasets.load_wine()\n",
    "train_x, test_x, train_y, test_y = train_test_split(wine.data, wine.target, random_state = 0)\n",
    "for i in range(5):\n",
    "    model = DecisionTreeClassifier(max_depth = pow(2,i+1))\n",
    "    model.fit(train_x, train_y)\n",
    "    pred_y = model.predict(test_x)\n",
    "    print('max depth: ', pow(2,i+1))\n",
    "    print('score: ', accuracy_score(test_y,pred_y))\n",
    "    print(wine.feature_names)\n",
    "    print(model.feature_importances_)\n",
    "    print()"
   ]
  },
  {
   "cell_type": "code",
   "execution_count": 12,
   "metadata": {},
   "outputs": [
    {
     "name": "stdout",
     "output_type": "stream",
     "text": [
      "tree score:  0.6644732549414656\n",
      "linear score:  0.6354638433202129\n"
     ]
    }
   ],
   "source": [
    "from sklearn.linear_model import LinearRegression\n",
    "boston = datasets.load_boston()\n",
    "train_x, test_x, train_y, test_y = train_test_split(boston.data, boston.target, random_state = 0)\n",
    "tree_model = DecisionTreeRegressor()\n",
    "linear = LinearRegression()\n",
    "tree_model.fit(train_x,train_y)\n",
    "linear.fit(train_x,train_y)\n",
    "tree_y = tree_model.predict(test_x)\n",
    "linear_y = linear.predict(test_x)\n",
    "print(\"tree score: \",r2_score(test_y, tree_y))\n",
    "print(\"linear score: \",r2_score(test_y, linear_y))"
   ]
  },
  {
   "cell_type": "code",
   "execution_count": 14,
   "metadata": {},
   "outputs": [
    {
     "name": "stdout",
     "output_type": "stream",
     "text": [
      "['CRIM' 'ZN' 'INDUS' 'CHAS' 'NOX' 'RM' 'AGE' 'DIS' 'RAD' 'TAX' 'PTRATIO'\n",
      " 'B' 'LSTAT']\n",
      "[5.24722128e-02 3.63995888e-03 1.11180967e-02 1.54646407e-07\n",
      " 1.58696592e-02 2.43877587e-01 5.22830865e-03 2.90190095e-02\n",
      " 4.62448725e-04 1.40816704e-02 3.11385092e-02 7.33665323e-03\n",
      " 5.85755731e-01]\n"
     ]
    }
   ],
   "source": [
    "print(boston.feature_names)\n",
    "print(tree_model.feature_importances_)"
   ]
  },
  {
   "cell_type": "code",
   "execution_count": null,
   "metadata": {},
   "outputs": [],
   "source": []
  }
 ],
 "metadata": {
  "kernelspec": {
   "display_name": "Python 3",
   "language": "python",
   "name": "python3"
  },
  "language_info": {
   "codemirror_mode": {
    "name": "ipython",
    "version": 3
   },
   "file_extension": ".py",
   "mimetype": "text/x-python",
   "name": "python",
   "nbconvert_exporter": "python",
   "pygments_lexer": "ipython3",
   "version": "3.7.4"
  }
 },
 "nbformat": 4,
 "nbformat_minor": 2
}
