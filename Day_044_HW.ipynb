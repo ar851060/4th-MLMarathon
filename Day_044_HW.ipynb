{
 "cells": [
  {
   "cell_type": "markdown",
   "metadata": {},
   "source": [
    "## [作業重點]\n",
    "確保你了解隨機森林模型中每個超參數的意義，並觀察調整超參數對結果的影響"
   ]
  },
  {
   "cell_type": "markdown",
   "metadata": {},
   "source": [
    "## 作業\n",
    "\n",
    "1. 試著調整 RandomForestClassifier(...) 中的參數，並觀察是否會改變結果？\n",
    "2. 改用其他資料集 (boston, wine)，並與回歸模型與決策樹的結果進行比較"
   ]
  },
  {
   "cell_type": "code",
   "execution_count": 2,
   "metadata": {},
   "outputs": [],
   "source": [
    "from sklearn import datasets\n",
    "from sklearn.ensemble import RandomForestClassifier, RandomForestRegressor\n",
    "from sklearn.model_selection import train_test_split\n",
    "from sklearn.metrics import accuracy_score, r2_score\n",
    "from sklearn.linear_model import LinearRegression, LogisticRegression\n",
    "import time"
   ]
  },
  {
   "cell_type": "code",
   "execution_count": 3,
   "metadata": {},
   "outputs": [
    {
     "name": "stdout",
     "output_type": "stream",
     "text": [
      "number of trees:  1\n",
      "score:  0.9210526315789473\n",
      "time:  0.003965616226196289\n",
      "\n",
      "number of trees:  10\n",
      "score:  0.8947368421052632\n",
      "time:  0.007944583892822266\n",
      "\n",
      "number of trees:  100\n",
      "score:  0.868421052631579\n",
      "time:  0.052709341049194336\n",
      "\n",
      "number of trees:  1000\n",
      "score:  0.8947368421052632\n",
      "time:  0.4956686496734619\n",
      "\n",
      "number of trees:  10000\n",
      "score:  0.8947368421052632\n",
      "time:  4.9603800773620605\n",
      "\n"
     ]
    }
   ],
   "source": [
    "iris = datasets.load_iris()\n",
    "train_x, test_x, train_y, test_y = train_test_split(iris.data, iris.target, random_state = 16)\n",
    "for i in range(5):\n",
    "    begin = time.time()\n",
    "    model = RandomForestClassifier(n_estimators=pow(10,i),max_depth = 4)\n",
    "    model.fit(train_x, train_y)\n",
    "    pred_y = model.predict(test_x)\n",
    "    print(\"number of trees: \",pow(10,i))\n",
    "    print(\"score: \", accuracy_score(test_y, pred_y))\n",
    "    print(\"time: \", time.time()-begin)\n",
    "    print()"
   ]
  },
  {
   "cell_type": "code",
   "execution_count": 5,
   "metadata": {},
   "outputs": [
    {
     "name": "stdout",
     "output_type": "stream",
     "text": [
      "max depth:  1\n",
      "score:  0.9473684210526315\n",
      "time:  0.00797724723815918\n",
      "\n",
      "max depth:  2\n",
      "score:  0.8947368421052632\n",
      "time:  0.007978439331054688\n",
      "\n",
      "max depth:  4\n",
      "score:  0.868421052631579\n",
      "time:  0.006981849670410156\n",
      "\n",
      "max depth:  8\n",
      "score:  0.8947368421052632\n",
      "time:  0.00698089599609375\n",
      "\n",
      "max depth:  16\n",
      "score:  0.868421052631579\n",
      "time:  0.006983280181884766\n",
      "\n"
     ]
    }
   ],
   "source": [
    "iris = datasets.load_iris()\n",
    "train_x, test_x, train_y, test_y = train_test_split(iris.data, iris.target, random_state = 16)\n",
    "for i in range(5):\n",
    "    begin = time.time()\n",
    "    model = RandomForestClassifier(n_estimators=10,max_depth = pow(2,i))\n",
    "    model.fit(train_x, train_y)\n",
    "    pred_y = model.predict(test_x)\n",
    "    print(\"max depth: \",pow(2,i))\n",
    "    print(\"score: \", accuracy_score(test_y, pred_y))\n",
    "    print(\"time: \", time.time()-begin)\n",
    "    print()"
   ]
  },
  {
   "cell_type": "code",
   "execution_count": 7,
   "metadata": {},
   "outputs": [
    {
     "name": "stdout",
     "output_type": "stream",
     "text": [
      "random forest score:  0.8810508099775217\n",
      "\n",
      "Linear Regression score:  0.6749893949816304\n",
      "\n"
     ]
    },
    {
     "name": "stderr",
     "output_type": "stream",
     "text": [
      "D:\\anaconda\\lib\\site-packages\\sklearn\\ensemble\\forest.py:245: FutureWarning: The default value of n_estimators will change from 10 in version 0.20 to 100 in 0.22.\n",
      "  \"10 in version 0.20 to 100 in 0.22.\", FutureWarning)\n"
     ]
    }
   ],
   "source": [
    "boston = datasets.load_boston()\n",
    "train_x, test_x, train_y, test_y = train_test_split(boston.data, boston.target, random_state = 16)\n",
    "model = RandomForestRegressor()\n",
    "model.fit(train_x, train_y)\n",
    "pred_y = model.predict(test_x)\n",
    "print(\"random forest score: \", r2_score(test_y, pred_y))\n",
    "print()\n",
    "model = LinearRegression()\n",
    "model.fit(train_x, train_y)\n",
    "pred_y = model.predict(test_x)\n",
    "print(\"Linear Regression score: \", r2_score(test_y, pred_y))\n",
    "print()"
   ]
  },
  {
   "cell_type": "code",
   "execution_count": 8,
   "metadata": {},
   "outputs": [
    {
     "name": "stdout",
     "output_type": "stream",
     "text": [
      "random forest score:  0.9111111111111111\n",
      "\n",
      "Logistic Regression score:  0.9555555555555556\n",
      "\n"
     ]
    },
    {
     "name": "stderr",
     "output_type": "stream",
     "text": [
      "D:\\anaconda\\lib\\site-packages\\sklearn\\ensemble\\forest.py:245: FutureWarning: The default value of n_estimators will change from 10 in version 0.20 to 100 in 0.22.\n",
      "  \"10 in version 0.20 to 100 in 0.22.\", FutureWarning)\n",
      "D:\\anaconda\\lib\\site-packages\\sklearn\\linear_model\\logistic.py:432: FutureWarning: Default solver will be changed to 'lbfgs' in 0.22. Specify a solver to silence this warning.\n",
      "  FutureWarning)\n",
      "D:\\anaconda\\lib\\site-packages\\sklearn\\linear_model\\logistic.py:469: FutureWarning: Default multi_class will be changed to 'auto' in 0.22. Specify the multi_class option to silence this warning.\n",
      "  \"this warning.\", FutureWarning)\n"
     ]
    }
   ],
   "source": [
    "wine = datasets.load_wine()\n",
    "train_x, test_x, train_y, test_y = train_test_split(wine.data, wine.target, random_state = 16)\n",
    "model = RandomForestClassifier()\n",
    "model.fit(train_x, train_y)\n",
    "pred_y = model.predict(test_x)\n",
    "print(\"random forest score: \", accuracy_score(test_y, pred_y))\n",
    "print()\n",
    "model = LogisticRegression()\n",
    "model.fit(train_x, train_y)\n",
    "pred_y = model.predict(test_x)\n",
    "print(\"Logistic Regression score: \", accuracy_score(test_y, pred_y))\n",
    "print()"
   ]
  },
  {
   "cell_type": "code",
   "execution_count": null,
   "metadata": {},
   "outputs": [],
   "source": []
  }
 ],
 "metadata": {
  "kernelspec": {
   "display_name": "Python 3",
   "language": "python",
   "name": "python3"
  },
  "language_info": {
   "codemirror_mode": {
    "name": "ipython",
    "version": 3
   },
   "file_extension": ".py",
   "mimetype": "text/x-python",
   "name": "python",
   "nbconvert_exporter": "python",
   "pygments_lexer": "ipython3",
   "version": "3.7.4"
  }
 },
 "nbformat": 4,
 "nbformat_minor": 2
}
