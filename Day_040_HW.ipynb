{
 "cells": [
  {
   "cell_type": "markdown",
   "metadata": {},
   "source": [
    "## [作業重點]\n",
    "使用 Sklearn 中的 Lasso, Ridge 模型，來訓練各種資料集，務必了解送進去模型訓練的**資料型態**為何，也請了解模型中各項參數的意義。\n",
    "\n",
    "機器學習的模型非常多種，但要訓練的資料多半有固定的格式，確保你了解訓練資料的格式為何，這樣在應用新模型時，就能夠最快的上手開始訓練！"
   ]
  },
  {
   "cell_type": "markdown",
   "metadata": {},
   "source": [
    "## 練習時間\n",
    "試著使用 sklearn datasets 的其他資料集 (boston, ...)，來訓練自己的線性迴歸模型，並加上適當的正則化來觀察訓練情形。"
   ]
  },
  {
   "cell_type": "code",
   "execution_count": 1,
   "metadata": {},
   "outputs": [
    {
     "name": "stderr",
     "output_type": "stream",
     "text": [
      "D:\\anaconda\\lib\\importlib\\_bootstrap.py:219: RuntimeWarning: numpy.ufunc size changed, may indicate binary incompatibility. Expected 192 from C header, got 216 from PyObject\n",
      "  return f(*args, **kwds)\n"
     ]
    }
   ],
   "source": [
    "from sklearn import datasets\n",
    "from sklearn.linear_model import LinearRegression, Lasso, Ridge\n",
    "from sklearn.model_selection import train_test_split\n",
    "from sklearn.metrics import mean_squared_error"
   ]
  },
  {
   "cell_type": "code",
   "execution_count": 2,
   "metadata": {},
   "outputs": [
    {
     "name": "stdout",
     "output_type": "stream",
     "text": [
      "Linear Regression\n",
      "[-1.28322638e-01  2.95517751e-02  4.88590934e-02  2.77350326e+00\n",
      " -1.62388292e+01  4.36875476e+00 -9.24808158e-03 -1.40086668e+00\n",
      "  2.57761243e-01 -9.95694820e-03 -9.23122944e-01  1.31854199e-02\n",
      " -5.17639519e-01]\n",
      "Mean Squared Error:  22.098694827098036\n"
     ]
    }
   ],
   "source": [
    "boston = datasets.load_boston()\n",
    "x_train, x_test, y_train, y_test = train_test_split(boston.data, boston.target, random_state = 42)\n",
    "model = LinearRegression()\n",
    "model.fit(x_train, y_train)\n",
    "y_pred = model.predict(x_test)\n",
    "print(\"Linear Regression\")\n",
    "print(model.coef_)\n",
    "print(\"Mean Squared Error: \", mean_squared_error(y_test,y_pred))"
   ]
  },
  {
   "cell_type": "code",
   "execution_count": 4,
   "metadata": {},
   "outputs": [
    {
     "name": "stdout",
     "output_type": "stream",
     "text": [
      "Lasso Regression with alpha = 100\n",
      "[-0.          0.         -0.          0.         -0.          0.\n",
      " -0.          0.         -0.         -0.02092354 -0.          0.00528061\n",
      " -0.        ]\n",
      "Mean Squared Error:  51.95165465021721\n",
      "\n",
      "Lasso Regression with alpha = 10\n",
      "[-0.          0.00806625 -0.          0.          0.          0.\n",
      "  0.         -0.          0.         -0.00896833 -0.          0.01014021\n",
      " -0.62986968]\n",
      "Mean Squared Error:  35.391737651173884\n",
      "\n",
      "Lasso Regression with alpha = 1\n",
      "[-0.0838981   0.02646051 -0.          0.         -0.          1.54544951\n",
      "  0.01345772 -0.58282853  0.20738089 -0.01121302 -0.70500625  0.01198848\n",
      " -0.75783702]\n",
      "Mean Squared Error:  24.390752590355167\n",
      "\n",
      "Lasso Regression with alpha = 0.1\n",
      "[-1.17793374e-01  3.34044896e-02 -3.53578978e-03  1.03231761e+00\n",
      " -0.00000000e+00  4.20990006e+00 -1.82856494e-02 -1.10879871e+00\n",
      "  2.34448222e-01 -1.22693581e-02 -7.37706670e-01  1.39094295e-02\n",
      " -5.75368180e-01]\n",
      "Mean Squared Error:  23.385884128935917\n",
      "\n",
      "Lasso Regression with alpha = 0.01\n",
      "[-1.26189599e-01  3.02739537e-02  3.49458150e-02  2.57156882e+00\n",
      " -1.28942985e+01  4.36293724e+00 -1.16196386e-02 -1.34754314e+00\n",
      "  2.51441663e-01 -1.03302373e-02 -8.83199536e-01  1.33229430e-02\n",
      " -5.26385183e-01]\n",
      "Mean Squared Error:  22.210556712702015\n",
      "\n"
     ]
    }
   ],
   "source": [
    "for i in range(5):\n",
    "    model = Lasso(alpha=pow(10,2-i))\n",
    "    model.fit(x_train, y_train)\n",
    "    y_pred = model.predict(x_test)\n",
    "    print(\"Lasso Regression with alpha = {0}\".format(pow(10,2-i)))\n",
    "    print(model.coef_)\n",
    "    print(\"Mean Squared Error: \", mean_squared_error(y_test,y_pred))\n",
    "    print()"
   ]
  },
  {
   "cell_type": "code",
   "execution_count": 5,
   "metadata": {},
   "outputs": [
    {
     "name": "stdout",
     "output_type": "stream",
     "text": [
      "Ridge Regression with alpha = 100\n",
      "[-0.12409594  0.03823717 -0.03483639  0.55335885 -0.1706479   2.33897126\n",
      " -0.0025212  -1.07612346  0.29094956 -0.01385545 -0.81440599  0.01293271\n",
      " -0.70081025]\n",
      "Mean Squared Error:  22.72734630472473\n",
      "\n",
      "Ridge Regression with alpha = 10\n",
      "[-0.12137453  0.03421897 -0.01307037  1.8210257  -1.68747299  4.09010212\n",
      " -0.01841796 -1.18806788  0.24351944 -0.01208251 -0.76717881  0.01369631\n",
      " -0.5734354 ]\n",
      "Mean Squared Error:  22.93922867924623\n",
      "\n",
      "Ridge Regression with alpha = 1\n",
      "[-0.12383039  0.03139178  0.01767668  2.54277179 -8.77249222  4.37980204\n",
      " -0.01537349 -1.29086084  0.24406848 -0.01082435 -0.83346553  0.01348642\n",
      " -0.53435396]\n",
      "Mean Squared Error:  22.480475501233848\n",
      "\n",
      "Ridge Regression with alpha = 0.1\n",
      "[-1.27536016e-01  2.98537815e-02  4.35486433e-02  2.74033483e+00\n",
      " -1.49671032e+01  4.37348397e+00 -1.03183434e-02 -1.38208336e+00\n",
      "  2.55296380e-01 -1.00999145e-02 -9.07649627e-01  1.32371402e-02\n",
      " -5.20257280e-01]\n",
      "Mean Squared Error:  22.14223297423885\n",
      "\n",
      "Ridge Regression with alpha = 0.01\n",
      "[-1.28237786e-01  2.95841350e-02  4.82878715e-02  2.77000410e+00\n",
      " -1.61020370e+01  4.36929434e+00 -9.36349674e-03 -1.39884572e+00\n",
      "  2.57494652e-01 -9.97227349e-03 -9.21456342e-01  1.31909876e-02\n",
      " -5.17918597e-01]\n",
      "Mean Squared Error:  22.102933934149\n",
      "\n"
     ]
    }
   ],
   "source": [
    "for i in range(5):\n",
    "    model = Ridge(alpha=pow(10,2-i))\n",
    "    model.fit(x_train, y_train)\n",
    "    y_pred = model.predict(x_test)\n",
    "    print(\"Ridge Regression with alpha = {0}\".format(pow(10,2-i)))\n",
    "    print(model.coef_)\n",
    "    print(\"Mean Squared Error: \", mean_squared_error(y_test,y_pred))\n",
    "    print()"
   ]
  },
  {
   "cell_type": "code",
   "execution_count": null,
   "metadata": {},
   "outputs": [],
   "source": []
  }
 ],
 "metadata": {
  "kernelspec": {
   "display_name": "Python 3",
   "language": "python",
   "name": "python3"
  },
  "language_info": {
   "codemirror_mode": {
    "name": "ipython",
    "version": 3
   },
   "file_extension": ".py",
   "mimetype": "text/x-python",
   "name": "python",
   "nbconvert_exporter": "python",
   "pygments_lexer": "ipython3",
   "version": "3.7.4"
  }
 },
 "nbformat": 4,
 "nbformat_minor": 2
}
